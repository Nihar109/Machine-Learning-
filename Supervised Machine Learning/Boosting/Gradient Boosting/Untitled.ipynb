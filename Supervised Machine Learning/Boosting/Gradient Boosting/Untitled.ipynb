{
 "cells": [
  {
   "cell_type": "code",
   "execution_count": 4,
   "id": "5f025431",
   "metadata": {},
   "outputs": [
    {
     "data": {
      "text/plain": [
       "dtype('float32')"
      ]
     },
     "execution_count": 4,
     "metadata": {},
     "output_type": "execute_result"
    }
   ],
   "source": [
    "import numpy as np\n",
    ">>> from sklearn import kernel_approximation\n",
    "\n",
    ">>> rng = np.random.RandomState(0)\n",
    ">>> X = rng.rand(10, 2000)\n",
    ">>> X = np.array(X, dtype='float32')\n",
    ">>> X.dtype"
   ]
  },
  {
   "cell_type": "code",
   "execution_count": 5,
   "id": "edc0edd9",
   "metadata": {},
   "outputs": [
    {
     "data": {
      "text/plain": [
       "dtype('float64')"
      ]
     },
     "execution_count": 5,
     "metadata": {},
     "output_type": "execute_result"
    }
   ],
   "source": [
    ">>> transformer = kernel_approximation.RBFSampler()\n",
    ">>> X_new = transformer.fit_transform(X)\n",
    ">>> X_new.dtype"
   ]
  },
  {
   "cell_type": "code",
   "execution_count": null,
   "id": "f570770b",
   "metadata": {},
   "outputs": [],
   "source": []
  }
 ],
 "metadata": {
  "kernelspec": {
   "display_name": "Python 3 (ipykernel)",
   "language": "python",
   "name": "python3"
  },
  "language_info": {
   "codemirror_mode": {
    "name": "ipython",
    "version": 3
   },
   "file_extension": ".py",
   "mimetype": "text/x-python",
   "name": "python",
   "nbconvert_exporter": "python",
   "pygments_lexer": "ipython3",
   "version": "3.9.12"
  }
 },
 "nbformat": 4,
 "nbformat_minor": 5
}
